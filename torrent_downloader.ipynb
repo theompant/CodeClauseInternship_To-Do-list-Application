{
  "cells": [
    {
      "cell_type": "markdown",
      "metadata": {
        "id": "aQuWDmfm9YOi"
      },
      "source": [
        "# Torrents To Google Drive Downloader\n",
        "*Python app to save content from torrent directly to google drive.*"
      ]
    },
    {
      "cell_type": "markdown",
      "metadata": {
        "id": "Uf90U73y9YOj"
      },
      "source": [
        "### Step 1: Mount Google Drive\n",
        "To stream files we need to get access to write on that drive."
      ]
    },
    {
      "cell_type": "code",
      "execution_count": 8,
      "metadata": {
        "colab": {
          "base_uri": "https://localhost:8080/"
        },
        "id": "oWM9l2fvtuvO",
        "outputId": "ddae13a5-69fb-40fa-f149-3f1f5c6e8ced"
      },
      "outputs": [
        {
          "output_type": "stream",
          "name": "stdout",
          "text": [
            "Drive already mounted at /content/drive; to attempt to forcibly remount, call drive.mount(\"/content/drive\", force_remount=True).\n"
          ]
        }
      ],
      "source": [
        "from google.colab import drive\n",
        "drive.mount('/content/drive')"
      ]
    },
    {
      "cell_type": "markdown",
      "metadata": {
        "id": "FexiyATtNwTG"
      },
      "source": [
        "### Step 2: Install libtorrent library\n",
        "Libtorrent is a feature complete C++ bittorrent implementation focusing on efficiency and scalability.\n",
        "https://www.libtorrent.org/"
      ]
    },
    {
      "cell_type": "code",
      "execution_count": null,
      "metadata": {
        "id": "m6hF0emftx4h"
      },
      "outputs": [],
      "source": [
        "!python -m pip install --upgrade pip setuptools wheel\n",
        "!python -m pip install lbry-libtorrent"
      ]
    },
    {
      "cell_type": "markdown",
      "metadata": {
        "id": "j-ILSl_YOGRS"
      },
      "source": [
        "### Step 3: Paste the Magnet Link in the input box\n",
        "Variable **link** stores the link string."
      ]
    },
    {
      "cell_type": "code",
      "execution_count": 9,
      "metadata": {
        "id": "xoyBbqS9LZr3",
        "outputId": "eafd4ece-e115-47ff-b6b9-088afd7c98bc",
        "colab": {
          "base_uri": "https://localhost:8080/"
        }
      },
      "outputs": [
        {
          "name": "stdout",
          "output_type": "stream",
          "text": [
            "PASTE TORRENT/MAGNET LINK HERE \n",
            "magnet:?xt=urn:btih:2e2362ffaec406f4bad5457ff9b34ac592345cef&dn=%5BAlmighty%5D%20Boruto%20-%20Naruto%20Next%20Generations%201-92%20%5BBD%201920x1080%20x264%2010bit%20FLAC%20Dual%20Audio%5D%5BMultiple%20Subs%5D&tr=http%3A%2F%2Fnyaa.tracker.wf%3A7777%2Fannounce&tr=udp%3A%2F%2Fopen.stealth.si%3A80%2Fannounce&tr=udp%3A%2F%2Ftracker.opentrackr.org%3A1337%2Fannounce&tr=udp%3A%2F%2Fexodus.desync.com%3A6969%2Fannounce&tr=udp%3A%2F%2Ftracker.torrent.eu.org%3A451%2Fannounce\n"
          ]
        }
      ],
      "source": [
        "link = input(\"PASTE TORRENT/MAGNET LINK HERE \\n\") # PASTE TORRENT/MAGNET LINK HERE"
      ]
    },
    {
      "cell_type": "markdown",
      "metadata": {
        "id": "tqKcWHZcYRIA"
      },
      "source": [
        "### Step 4: Download torrent"
      ]
    },
    {
      "cell_type": "code",
      "execution_count": null,
      "metadata": {
        "id": "b09BxnANO2ep",
        "outputId": "2aafb99d-5870-47f1-ad81-fb26d1cdba8d",
        "colab": {
          "base_uri": "https://localhost:8080/"
        }
      },
      "outputs": [
        {
          "output_type": "stream",
          "name": "stdout",
          "text": [
            "magnet:?xt=urn:btih:2e2362ffaec406f4bad5457ff9b34ac592345cef&dn=%5BAlmighty%5D%20Boruto%20-%20Naruto%20Next%20Generations%201-92%20%5BBD%201920x1080%20x264%2010bit%20FLAC%20Dual%20Audio%5D%5BMultiple%20Subs%5D&tr=http%3A%2F%2Fnyaa.tracker.wf%3A7777%2Fannounce&tr=udp%3A%2F%2Fopen.stealth.si%3A80%2Fannounce&tr=udp%3A%2F%2Ftracker.opentrackr.org%3A1337%2Fannounce&tr=udp%3A%2F%2Fexodus.desync.com%3A6969%2Fannounce&tr=udp%3A%2F%2Ftracker.torrent.eu.org%3A451%2Fannounce\n",
            "2025-06-19 08:54:22.040408\n",
            "Downloading Metadata...\n",
            "Got Metadata, Starting Torrent Download...\n",
            "Starting Boruto - Naruto Next Generations [BD]\n",
            "0.08% complete (down: 60.1 kb/s up: 2.6 kB/s peers: 4) checking \n",
            "0.51% complete (down: 19.7 kb/s up: 0.9 kB/s peers: 4) checking \n",
            "0.90% complete (down: 6.5 kb/s up: 0.4 kB/s peers: 4) checking \n",
            "1.41% complete (down: 2.2 kb/s up: 0.1 kB/s peers: 4) checking \n",
            "1.78% complete (down: 0.7 kb/s up: 0.1 kB/s peers: 4) checking \n",
            "2.22% complete (down: 0.2 kb/s up: 0.0 kB/s peers: 4) checking \n",
            "3.04% complete (down: 0.1 kb/s up: 0.0 kB/s peers: 4) checking \n",
            "3.38% complete (down: 0.0 kb/s up: 0.0 kB/s peers: 4) checking \n",
            "4.97% complete (down: 0.0 kb/s up: 0.0 kB/s peers: 4) checking \n",
            "5.51% complete (down: 0.0 kb/s up: 0.0 kB/s peers: 4) checking \n",
            "13.83% complete (down: 0.0 kb/s up: 0.0 kB/s peers: 4) checking \n",
            "15.85% complete (down: 0.1 kb/s up: 0.1 kB/s peers: 4) checking \n",
            "18.59% complete (down: 0.1 kb/s up: 0.2 kB/s peers: 4) checking \n",
            "18.92% complete (down: 0.1 kb/s up: 0.1 kB/s peers: 4) checking \n",
            "19.54% complete (down: 0.0 kb/s up: 0.0 kB/s peers: 4) checking \n",
            "20.01% complete (down: 0.1 kb/s up: 0.1 kB/s peers: 4) checking \n",
            "20.36% complete (down: 0.0 kb/s up: 0.0 kB/s peers: 4) checking \n",
            "21.92% complete (down: 0.0 kb/s up: 0.0 kB/s peers: 4) checking \n",
            "22.36% complete (down: 0.1 kb/s up: 0.1 kB/s peers: 4) checking \n",
            "29.85% complete (down: 0.0 kb/s up: 0.0 kB/s peers: 4) checking \n",
            "30.36% complete (down: 0.0 kb/s up: 0.0 kB/s peers: 4) checking \n",
            "30.79% complete (down: 0.0 kb/s up: 0.0 kB/s peers: 4) checking \n",
            "32.19% complete (down: 0.0 kb/s up: 0.0 kB/s peers: 4) checking \n",
            "32.25% complete (down: 0.0 kb/s up: 0.0 kB/s peers: 4) checking \n",
            "32.32% complete (down: 0.0 kb/s up: 0.0 kB/s peers: 4) checking \n",
            "33.16% complete (down: 0.0 kb/s up: 0.0 kB/s peers: 4) checking \n",
            "33.23% complete (down: 0.1 kb/s up: 0.1 kB/s peers: 4) checking \n",
            "33.29% complete (down: 0.0 kb/s up: 0.0 kB/s peers: 4) checking \n",
            "33.33% complete (down: 0.0 kb/s up: 0.0 kB/s peers: 4) checking \n",
            "33.33% complete (down: 0.0 kb/s up: 0.0 kB/s peers: 4) checking \n",
            "33.33% complete (down: 0.0 kb/s up: 0.0 kB/s peers: 4) checking \n",
            "33.41% complete (down: 0.0 kb/s up: 0.0 kB/s peers: 4) checking \n",
            "34.55% complete (down: 0.0 kb/s up: 0.0 kB/s peers: 4) checking \n",
            "36.41% complete (down: 0.0 kb/s up: 0.0 kB/s peers: 4) checking \n",
            "36.45% complete (down: 0.0 kb/s up: 0.0 kB/s peers: 4) checking \n",
            "36.52% complete (down: 0.0 kb/s up: 0.0 kB/s peers: 4) checking \n",
            "36.59% complete (down: 0.0 kb/s up: 0.0 kB/s peers: 4) checking \n",
            "36.64% complete (down: 0.0 kb/s up: 0.0 kB/s peers: 4) checking \n",
            "36.73% complete (down: 0.0 kb/s up: 0.0 kB/s peers: 4) checking \n",
            "41.84% complete (down: 0.0 kb/s up: 0.0 kB/s peers: 4) checking \n",
            "41.90% complete (down: 0.0 kb/s up: 0.0 kB/s peers: 4) checking \n",
            "41.98% complete (down: 0.0 kb/s up: 0.0 kB/s peers: 4) checking \n",
            "42.05% complete (down: 0.0 kb/s up: 0.0 kB/s peers: 4) checking \n",
            "42.12% complete (down: 0.0 kb/s up: 0.0 kB/s peers: 4) checking \n",
            "42.19% complete (down: 0.0 kb/s up: 0.0 kB/s peers: 4) checking \n",
            "42.26% complete (down: 0.0 kb/s up: 0.0 kB/s peers: 3) checking \n",
            "42.35% complete (down: 0.0 kb/s up: 0.0 kB/s peers: 3) checking \n",
            "42.43% complete (down: 0.0 kb/s up: 0.0 kB/s peers: 3) checking \n",
            "42.51% complete (down: 0.0 kb/s up: 0.1 kB/s peers: 3) checking \n",
            "42.57% complete (down: 0.0 kb/s up: 0.0 kB/s peers: 3) checking \n",
            "42.90% complete (down: 0.0 kb/s up: 0.0 kB/s peers: 3) checking \n",
            "42.98% complete (down: 0.0 kb/s up: 0.0 kB/s peers: 3) checking \n",
            "43.05% complete (down: 0.0 kb/s up: 0.0 kB/s peers: 2) checking \n",
            "43.11% complete (down: 0.0 kb/s up: 0.0 kB/s peers: 2) checking \n",
            "43.16% complete (down: 0.0 kb/s up: 0.0 kB/s peers: 2) checking \n",
            "43.23% complete (down: 0.0 kb/s up: 0.0 kB/s peers: 2) checking \n",
            "43.30% complete (down: 0.0 kb/s up: 0.0 kB/s peers: 2) checking \n",
            "43.33% complete (down: 0.0 kb/s up: 0.0 kB/s peers: 2) checking \n",
            "43.40% complete (down: 0.0 kb/s up: 0.0 kB/s peers: 2) checking \n",
            "53.43% complete (down: 0.0 kb/s up: 0.0 kB/s peers: 2) checking \n",
            "53.73% complete (down: 0.0 kb/s up: 0.0 kB/s peers: 2) checking \n",
            "54.39% complete (down: 0.0 kb/s up: 0.0 kB/s peers: 2) checking \n",
            "54.45% complete (down: 0.0 kb/s up: 0.0 kB/s peers: 2) checking \n",
            "54.52% complete (down: 0.0 kb/s up: 0.0 kB/s peers: 2) checking \n",
            "54.57% complete (down: 0.0 kb/s up: 0.0 kB/s peers: 2) checking \n",
            "54.62% complete (down: 0.0 kb/s up: 0.0 kB/s peers: 2) checking \n",
            "54.71% complete (down: 0.0 kb/s up: 0.0 kB/s peers: 2) checking \n",
            "58.52% complete (down: 0.0 kb/s up: 0.0 kB/s peers: 2) checking \n",
            "58.91% complete (down: 0.0 kb/s up: 0.0 kB/s peers: 2) checking \n",
            "59.38% complete (down: 0.0 kb/s up: 0.0 kB/s peers: 2) checking \n",
            "59.47% complete (down: 0.0 kb/s up: 0.0 kB/s peers: 2) checking \n",
            "59.57% complete (down: 0.0 kb/s up: 0.0 kB/s peers: 2) checking \n",
            "59.70% complete (down: 0.0 kb/s up: 0.0 kB/s peers: 2) checking \n",
            "59.79% complete (down: 0.0 kb/s up: 0.0 kB/s peers: 2) checking \n",
            "59.89% complete (down: 0.0 kb/s up: 0.0 kB/s peers: 2) checking \n",
            "60.09% complete (down: 0.0 kb/s up: 0.0 kB/s peers: 2) checking \n",
            "62.01% complete (down: 0.0 kb/s up: 0.0 kB/s peers: 2) checking \n",
            "62.16% complete (down: 0.0 kb/s up: 0.0 kB/s peers: 2) checking \n",
            "62.41% complete (down: 0.0 kb/s up: 0.0 kB/s peers: 2) checking \n",
            "62.66% complete (down: 0.0 kb/s up: 0.0 kB/s peers: 2) checking \n",
            "62.91% complete (down: 0.0 kb/s up: 0.0 kB/s peers: 2) checking \n",
            "63.45% complete (down: 0.0 kb/s up: 0.0 kB/s peers: 2) checking \n",
            "63.66% complete (down: 0.0 kb/s up: 0.0 kB/s peers: 2) checking \n",
            "64.80% complete (down: 0.0 kb/s up: 0.0 kB/s peers: 2) checking \n",
            "64.90% complete (down: 0.0 kb/s up: 0.0 kB/s peers: 2) checking \n",
            "64.90% complete (down: 0.0 kb/s up: 0.0 kB/s peers: 2) checking \n",
            "64.90% complete (down: 0.0 kb/s up: 0.0 kB/s peers: 2) checking \n",
            "65.12% complete (down: 0.0 kb/s up: 0.0 kB/s peers: 2) checking \n",
            "66.15% complete (down: 0.0 kb/s up: 0.0 kB/s peers: 2) checking \n",
            "66.36% complete (down: 0.0 kb/s up: 0.0 kB/s peers: 2) checking \n",
            "66.59% complete (down: 0.0 kb/s up: 0.0 kB/s peers: 2) checking \n",
            "66.68% complete (down: 0.0 kb/s up: 0.0 kB/s peers: 2) checking \n",
            "66.99% complete (down: 0.0 kb/s up: 0.0 kB/s peers: 2) checking \n",
            "67.17% complete (down: 0.0 kb/s up: 0.0 kB/s peers: 2) checking \n",
            "68.64% complete (down: 0.0 kb/s up: 0.0 kB/s peers: 2) checking \n",
            "68.90% complete (down: 0.0 kb/s up: 0.0 kB/s peers: 2) checking \n",
            "69.00% complete (down: 0.0 kb/s up: 0.0 kB/s peers: 2) checking \n",
            "69.25% complete (down: 0.0 kb/s up: 0.0 kB/s peers: 2) checking \n",
            "69.41% complete (down: 0.0 kb/s up: 0.0 kB/s peers: 2) checking \n",
            "69.69% complete (down: 0.0 kb/s up: 0.0 kB/s peers: 2) checking \n",
            "70.04% complete (down: 0.0 kb/s up: 0.0 kB/s peers: 2) checking \n",
            "70.31% complete (down: 0.0 kb/s up: 0.0 kB/s peers: 2) checking \n",
            "70.54% complete (down: 0.0 kb/s up: 0.0 kB/s peers: 2) checking \n",
            "70.78% complete (down: 0.0 kb/s up: 0.0 kB/s peers: 2) checking \n",
            "71.07% complete (down: 0.0 kb/s up: 0.0 kB/s peers: 2) checking \n",
            "71.34% complete (down: 0.0 kb/s up: 0.0 kB/s peers: 2) checking \n",
            "71.61% complete (down: 0.0 kb/s up: 0.0 kB/s peers: 2) checking \n",
            "72.32% complete (down: 0.0 kb/s up: 0.0 kB/s peers: 2) checking \n",
            "72.56% complete (down: 0.0 kb/s up: 0.0 kB/s peers: 2) checking \n",
            "72.74% complete (down: 0.0 kb/s up: 0.0 kB/s peers: 2) checking \n",
            "72.89% complete (down: 0.0 kb/s up: 0.0 kB/s peers: 2) checking \n",
            "73.13% complete (down: 0.0 kb/s up: 0.0 kB/s peers: 2) checking \n",
            "77.04% complete (down: 0.0 kb/s up: 0.0 kB/s peers: 2) checking \n",
            "77.23% complete (down: 0.0 kb/s up: 0.0 kB/s peers: 2) checking \n",
            "77.45% complete (down: 0.0 kb/s up: 0.0 kB/s peers: 2) checking \n",
            "77.66% complete (down: 0.0 kb/s up: 0.0 kB/s peers: 2) checking \n",
            "81.75% complete (down: 0.0 kb/s up: 0.0 kB/s peers: 2) checking \n",
            "82.01% complete (down: 0.0 kb/s up: 0.0 kB/s peers: 2) checking \n",
            "82.16% complete (down: 0.0 kb/s up: 0.0 kB/s peers: 2) checking \n",
            "82.39% complete (down: 0.0 kb/s up: 0.0 kB/s peers: 2) checking \n",
            "84.72% complete (down: 0.0 kb/s up: 0.0 kB/s peers: 2) checking \n",
            "87.32% complete (down: 0.0 kb/s up: 0.0 kB/s peers: 2) checking \n",
            "87.64% complete (down: 0.0 kb/s up: 0.0 kB/s peers: 2) checking \n",
            "87.87% complete (down: 0.0 kb/s up: 0.0 kB/s peers: 2) checking \n",
            "88.08% complete (down: 0.0 kb/s up: 0.0 kB/s peers: 2) checking \n",
            "90.31% complete (down: 0.0 kb/s up: 0.0 kB/s peers: 2) checking \n",
            "91.97% complete (down: 0.0 kb/s up: 0.0 kB/s peers: 2) checking \n",
            "92.24% complete (down: 0.0 kb/s up: 0.0 kB/s peers: 2) checking \n",
            "96.68% complete (down: 0.0 kb/s up: 0.0 kB/s peers: 2) checking \n",
            "96.83% complete (down: 0.0 kb/s up: 0.0 kB/s peers: 2) checking \n",
            "97.01% complete (down: 0.0 kb/s up: 0.0 kB/s peers: 2) checking \n",
            "97.17% complete (down: 0.0 kb/s up: 0.0 kB/s peers: 2) checking \n",
            "97.38% complete (down: 0.0 kb/s up: 0.0 kB/s peers: 2) checking \n",
            "97.52% complete (down: 0.0 kb/s up: 0.0 kB/s peers: 2) checking \n",
            "99.24% complete (down: 0.0 kb/s up: 0.0 kB/s peers: 2) checking \n",
            "99.84% complete (down: 0.1 kb/s up: 0.1 kB/s peers: 2) checking \n",
            "0.36% complete (down: 8.6 kb/s up: 23.2 kB/s peers: 5) downloading \n",
            "0.36% complete (down: 80.0 kb/s up: 42.7 kB/s peers: 4) downloading \n",
            "0.36% complete (down: 173.6 kb/s up: 72.3 kB/s peers: 5) downloading \n",
            "0.36% complete (down: 401.3 kb/s up: 83.6 kB/s peers: 5) downloading \n",
            "0.37% complete (down: 543.0 kb/s up: 92.5 kB/s peers: 6) downloading \n",
            "0.37% complete (down: 1216.1 kb/s up: 103.0 kB/s peers: 7) downloading \n",
            "0.37% complete (down: 1361.7 kb/s up: 95.1 kB/s peers: 7) downloading \n",
            "0.38% complete (down: 1355.3 kb/s up: 101.9 kB/s peers: 7) downloading \n",
            "0.38% complete (down: 1278.2 kb/s up: 91.9 kB/s peers: 7) downloading \n",
            "0.39% complete (down: 1871.3 kb/s up: 81.1 kB/s peers: 7) downloading \n",
            "0.39% complete (down: 1235.2 kb/s up: 48.0 kB/s peers: 7) downloading \n",
            "0.39% complete (down: 406.5 kb/s up: 15.8 kB/s peers: 7) downloading \n",
            "0.39% complete (down: 134.0 kb/s up: 6.0 kB/s peers: 8) downloading \n",
            "0.39% complete (down: 1133.3 kb/s up: 83.5 kB/s peers: 10) downloading \n",
            "0.40% complete (down: 1444.6 kb/s up: 92.8 kB/s peers: 8) downloading \n",
            "0.40% complete (down: 1632.3 kb/s up: 98.0 kB/s peers: 8) downloading \n",
            "0.41% complete (down: 2117.0 kb/s up: 109.7 kB/s peers: 7) downloading \n",
            "0.42% complete (down: 2187.9 kb/s up: 112.5 kB/s peers: 6) downloading \n",
            "0.42% complete (down: 2143.4 kb/s up: 111.1 kB/s peers: 7) downloading \n",
            "0.43% complete (down: 2153.2 kb/s up: 110.8 kB/s peers: 7) downloading \n",
            "0.43% complete (down: 2117.6 kb/s up: 110.0 kB/s peers: 7) downloading \n",
            "0.44% complete (down: 2092.5 kb/s up: 110.3 kB/s peers: 7) downloading \n",
            "0.44% complete (down: 2019.5 kb/s up: 104.3 kB/s peers: 7) downloading \n",
            "0.45% complete (down: 2279.0 kb/s up: 115.7 kB/s peers: 7) downloading \n",
            "0.46% complete (down: 2263.2 kb/s up: 115.2 kB/s peers: 8) downloading \n",
            "0.46% complete (down: 2728.2 kb/s up: 128.8 kB/s peers: 8) downloading \n",
            "0.47% complete (down: 3038.6 kb/s up: 136.7 kB/s peers: 9) downloading \n",
            "0.48% complete (down: 2921.3 kb/s up: 116.3 kB/s peers: 8) downloading \n",
            "0.48% complete (down: 1677.3 kb/s up: 60.1 kB/s peers: 8) downloading \n",
            "0.48% complete (down: 550.5 kb/s up: 20.1 kB/s peers: 8) downloading \n",
            "0.48% complete (down: 185.2 kb/s up: 7.2 kB/s peers: 9) downloading \n",
            "0.49% complete (down: 60.7 kb/s up: 2.3 kB/s peers: 9) downloading \n",
            "0.49% complete (down: 1132.9 kb/s up: 72.3 kB/s peers: 9) downloading \n",
            "0.49% complete (down: 1843.1 kb/s up: 99.8 kB/s peers: 9) downloading \n",
            "0.50% complete (down: 2506.4 kb/s up: 122.1 kB/s peers: 9) downloading \n",
            "0.51% complete (down: 2670.3 kb/s up: 126.8 kB/s peers: 9) downloading \n",
            "0.52% complete (down: 2523.8 kb/s up: 121.5 kB/s peers: 9) downloading \n",
            "0.52% complete (down: 2766.1 kb/s up: 129.7 kB/s peers: 10) downloading \n",
            "0.53% complete (down: 2707.2 kb/s up: 126.6 kB/s peers: 10) downloading \n",
            "0.54% complete (down: 2698.4 kb/s up: 125.0 kB/s peers: 11) downloading \n",
            "0.54% complete (down: 2578.6 kb/s up: 121.7 kB/s peers: 10) downloading \n",
            "0.55% complete (down: 2688.1 kb/s up: 117.0 kB/s peers: 11) downloading \n",
            "0.56% complete (down: 2893.2 kb/s up: 122.9 kB/s peers: 11) downloading \n",
            "0.57% complete (down: 2458.5 kb/s up: 115.7 kB/s peers: 11) downloading \n",
            "0.57% complete (down: 2533.8 kb/s up: 119.6 kB/s peers: 10) downloading \n"
          ]
        }
      ],
      "source": [
        "import libtorrent as lt\n",
        "import time\n",
        "import datetime\n",
        "\n",
        "ses = lt.session()\n",
        "ses.listen_on(6881, 6891) #here we are defining the ports on which BitTorrent works\n",
        "params = {\n",
        "    'save_path': '/content/drive/My Drive/Torrent/',\n",
        "    'storage_mode': lt.storage_mode_t(2)}\n",
        "# params means parameters\n",
        "# In paras we are defining the location on drive where we want to save the downloaded files\n",
        "# we also define storage mode, in this case we are using \"sparse allocation mode\"\n",
        "# The sparse allocation, sparse files are used, and pieces are downloaded directly to where they belong. This is the recommended (and default) mode.\n",
        "print(link)\n",
        "\n",
        "handle = lt.add_magnet_uri(ses, link, params)\n",
        "ses.start_dht()\n",
        "\n",
        "begin = time.time()\n",
        "print(datetime.datetime.now())\n",
        "\n",
        "print ('Downloading Metadata...')\n",
        "while (not handle.has_metadata()):\n",
        "    time.sleep(1)\n",
        "print ('Got Metadata, Starting Torrent Download...')\n",
        "\n",
        "print(\"Starting\", handle.name())\n",
        "\n",
        "while (handle.status().state != lt.torrent_status.seeding):\n",
        "    s = handle.status()\n",
        "    state_str = ['queued', 'checking', 'downloading metadata', \\\n",
        "            'downloading', 'finished', 'seeding', 'allocating']\n",
        "    print ('%.2f%% complete (down: %.1f kb/s up: %.1f kB/s peers: %d) %s ' % \\\n",
        "            (s.progress * 100, s.download_rate / 1000, s.upload_rate / 1000, \\\n",
        "            s.num_peers, state_str[s.state]))\n",
        "    time.sleep(5)\n",
        "\n",
        "end = time.time()\n",
        "print(handle.name(), \"COMPLETE\")\n",
        "\n",
        "print(\"Elapsed Time: \",int((end-begin)//60),\"min :\", int((end-begin)%60), \"sec\")\n",
        "\n",
        "print(datetime.datetime.now())"
      ]
    }
  ],
  "metadata": {
    "accelerator": "GPU",
    "colab": {
      "name": "torrent downloader.ipynb",
      "provenance": []
    },
    "kernelspec": {
      "display_name": "Python 3",
      "name": "python3"
    }
  },
  "nbformat": 4,
  "nbformat_minor": 0
}